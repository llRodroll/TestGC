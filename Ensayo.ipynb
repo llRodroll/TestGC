{
  "nbformat": 4,
  "nbformat_minor": 0,
  "metadata": {
    "colab": {
      "name": "Ensayo.ipynb",
      "provenance": [],
      "authorship_tag": "ABX9TyNG2URv2GyNIlqcD3T95vvc",
      "include_colab_link": true
    },
    "kernelspec": {
      "name": "python3",
      "display_name": "Python 3"
    }
  },
  "cells": [
    {
      "cell_type": "markdown",
      "metadata": {
        "id": "view-in-github",
        "colab_type": "text"
      },
      "source": [
        "<a href=\"https://colab.research.google.com/github/llRodroll/TestGC/blob/main/Ensayo.ipynb\" target=\"_parent\"><img src=\"https://colab.research.google.com/assets/colab-badge.svg\" alt=\"Open In Colab\"/></a>"
      ]
    },
    {
      "cell_type": "code",
      "metadata": {
        "colab": {
          "base_uri": "https://localhost:8080/"
        },
        "id": "DhK79vW7NZvT",
        "outputId": "0b616b79-1eca-41f9-8ddd-46f21c4d28cf"
      },
      "source": [
        "import numpy as np\n",
        "\n",
        "np.random.seed(1)              # needed to fix the simulation\n",
        "T = 100                        # number of observations\n",
        "\n",
        "b0 = 1                         # coefficients\n",
        "b1 = 2\n",
        "b2 = np.sqrt(b0*b1-1)\n",
        "print(b2)                      # check for non-real numbers\n",
        "\n",
        "x1 = np.random.normal(1,1.5,T) # x's\n",
        "x2 = np.random.normal(1.5,2,T)\n",
        "print(x1.shape)\n",
        "\n",
        "e = np.random.normal(0,1.75,T) # error\n",
        "\n",
        "y = b0+b1*x1+b2*x2+e           # y\n",
        "print(y.shape)"
      ],
      "execution_count": null,
      "outputs": [
        {
          "output_type": "stream",
          "text": [
            "1.0\n",
            "(100,)\n",
            "(100,)\n"
          ],
          "name": "stdout"
        }
      ]
    },
    {
      "cell_type": "code",
      "metadata": {
        "colab": {
          "base_uri": "https://localhost:8080/"
        },
        "id": "v79agxLGNl-N",
        "outputId": "2f42fe32-b6fa-42e1-f408-693f68073574"
      },
      "source": [
        "# OLS\n",
        "\n",
        "X = np.array([np.ones(T),x1,x2]).T  # .T to transpose and X is a (T,3) matrix\n",
        "print(X.shape)\n",
        "\n",
        "A = np.linalg.inv(np.matmul(X.T,X))\n",
        "B = np.matmul(X.T,y)\n",
        "betas = np.matmul(A,B)\n",
        "print(betas)"
      ],
      "execution_count": null,
      "outputs": [
        {
          "output_type": "stream",
          "text": [
            "(100, 3)\n",
            "[0.75096121 1.92778655 1.19107493]\n"
          ],
          "name": "stdout"
        }
      ]
    },
    {
      "cell_type": "code",
      "metadata": {
        "id": "UFi0a35sOiwU"
      },
      "source": [
        "def l(par,y,x):\n",
        "  # y and x will be the arguments of the function, i.e. the twist we have data\n",
        "  # par column vector of coefficients with number of rows equal to k+1 where k is # of betas\n",
        "  # b0 = par[0], b1 = par[1], b2 = par[2], ..., \n",
        "  # b[k+1] = s2 is the estimator for the error variance\n",
        "  k = len(par)-1   # because python index starts at 0,\n",
        "  betas = par[:k]  # but also, there is a difference between [:k] gives the first 3 elements but [k] gives the last\n",
        "  s2 = par[k]\n",
        "  \n",
        "  return -(-0.5*len(y)*np.log(2*np.pi*s2) - 0.5*np.linalg.norm(y-np.dot(x,betas))/s2)"
      ],
      "execution_count": null,
      "outputs": []
    },
    {
      "cell_type": "code",
      "metadata": {
        "colab": {
          "base_uri": "https://localhost:8080/"
        },
        "id": "bGOKEIToPWkF",
        "outputId": "6039ac74-11ec-4aba-dbeb-736dd5f131e3"
      },
      "source": [
        "from scipy.optimize import minimize\n",
        "\n",
        "par0 = np.array([1,2,1,1.75])  # intial conditions\n",
        "\n",
        "res = minimize(l,par0,args=(y,X),method='nelder-mead')\n",
        "print(res)"
      ],
      "execution_count": null,
      "outputs": [
        {
          "output_type": "stream",
          "text": [
            " final_simplex: (array([[0.75099899, 1.92780602, 1.19105912, 0.17213367],\n",
            "       [0.75092165, 1.92778394, 1.19108745, 0.17212767],\n",
            "       [0.75100335, 1.92780215, 1.1910478 , 0.17213464],\n",
            "       [0.75090564, 1.92783636, 1.1910679 , 0.17213253],\n",
            "       [0.75095962, 1.9278213 , 1.19106084, 0.17212766]]), array([53.91928849, 53.91928849, 53.91928849, 53.9192885 , 53.91928851]))\n",
            "           fun: 53.9192884864419\n",
            "       message: 'Optimization terminated successfully.'\n",
            "          nfev: 296\n",
            "           nit: 171\n",
            "        status: 0\n",
            "       success: True\n",
            "             x: array([0.75099899, 1.92780602, 1.19105912, 0.17213367])\n"
          ],
          "name": "stdout"
        },
        {
          "output_type": "stream",
          "text": [
            "/usr/local/lib/python3.6/dist-packages/ipykernel_launcher.py:10: RuntimeWarning: invalid value encountered in log\n",
            "  # Remove the CWD from sys.path while we load stuff.\n"
          ],
          "name": "stderr"
        }
      ]
    },
    {
      "cell_type": "code",
      "metadata": {
        "colab": {
          "base_uri": "https://localhost:8080/"
        },
        "id": "vDOBBNdYSqOz",
        "outputId": "1d04fb1e-a868-4f96-9239-b2c8966c53c5"
      },
      "source": [
        "from scipy.optimize import Bounds\n",
        "bounds = Bounds([-np.inf,-np.inf,-np.inf,0.001], [np.inf,np.inf,np.inf,np.inf]) \n",
        "\n",
        "def nonl(par):\n",
        "  return [par[0]*par[1]-par[2]**2]\n",
        "\n",
        "from scipy.optimize import NonlinearConstraint\n",
        "\n",
        "\n",
        "nonlinear_constraint = NonlinearConstraint(nonl, 1, 1)\n",
        "\n",
        "res = minimize(l,par0,args=(y,X),method='trust-constr', bounds=bounds,\n",
        "               constraints=nonlinear_constraint,options={'verbose': 1})\n",
        "\n",
        "print(\"Value function at optimum\",res.fun) \n",
        "print(\"Optimal control variables values\",res.x)"
      ],
      "execution_count": null,
      "outputs": [
        {
          "output_type": "stream",
          "text": [
            "`xtol` termination condition is satisfied.\n",
            "Number of iterations: 97, function evaluations: 640, CG iterations: 210, optimality: 6.49e-07, constraint violation: 2.22e-16, execution time: 0.31 s.\n",
            "Value function at optimum 54.50498761275209\n",
            "Optimal control variables values [1.13114511 1.90301743 1.07358691 0.17416061]\n"
          ],
          "name": "stdout"
        },
        {
          "output_type": "stream",
          "text": [
            "/usr/local/lib/python3.6/dist-packages/scipy/optimize/_hessian_update_strategy.py:187: UserWarning: delta_grad == 0.0. Check if the approximated function is linear. If the function is linear better results can be obtained by defining the Hessian as zero instead of using quasi-Newton approximations.\n",
            "  'approximations.', UserWarning)\n"
          ],
          "name": "stderr"
        }
      ]
    }
  ]
}